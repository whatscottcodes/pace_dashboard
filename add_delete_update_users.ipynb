{
 "cells": [
  {
   "cell_type": "code",
   "execution_count": 2,
   "metadata": {},
   "outputs": [],
   "source": [
    "import sqlite3\n",
    "import pandas as pd"
   ]
  },
  {
   "cell_type": "markdown",
   "metadata": {},
   "source": [
    "# Dashboard User Function\n",
    "Functions to add, delete, and update users."
   ]
  },
  {
   "cell_type": "code",
   "execution_count": 3,
   "metadata": {},
   "outputs": [],
   "source": [
    "def insert_user(db_path, username, first, last, email, has_password=0):\n",
    "    \"\"\"\n",
    "    Inserts a user into the user database. Will throw an error is the user\n",
    "    already exists.\n",
    "\n",
    "    Args:\n",
    "        db_path: path to the user database\n",
    "        username: username of the user\n",
    "        first: users first name\n",
    "        last: users last name\n",
    "        email: user email including address\n",
    "        has_password: indicates if they have a password in the users table\n",
    "            should be 0 in almost every situation.\n",
    "        \n",
    "    Returns:\n",
    "        None: updates user database\n",
    "    \"\"\"\n",
    "    conn = sqlite3.connect(db_path)\n",
    "\n",
    "    new_user = pd.DataFrame(\n",
    "        [[username, first, last, email, has_password]],\n",
    "        columns=[\"username\", \"first_name\", \"last_name\", \"email\", \"has_password\"],\n",
    "    )\n",
    "    new_user.to_sql(\"usernames\", conn, if_exists=\"append\", index=False)\n",
    "\n",
    "    conn.commit()\n",
    "    conn.close()\n",
    "\n",
    "    return \"User inserted\""
   ]
  },
  {
   "cell_type": "code",
   "execution_count": 4,
   "metadata": {},
   "outputs": [],
   "source": [
    "def delete_user(db_path, username):\n",
    "    \"\"\"\n",
    "    Deletes a user from the user database. \n",
    "\n",
    "    Args:\n",
    "        db_path: path to the user database\n",
    "        username: username of the user\n",
    "        \n",
    "    Returns:\n",
    "        None: updates user database\n",
    "    \"\"\"\n",
    "    conn = sqlite3.connect(db_path)\n",
    "\n",
    "    query_user = \"\"\"DELETE FROM user WHERE username=?;\"\"\"\n",
    "    query_usernames = \"\"\"DELETE FROM usernames WHERE username=?;\"\"\"\n",
    "\n",
    "    c = conn.cursor()\n",
    "    c.execute(query_user, (username,))\n",
    "    c.execute(query_usernames, (username,))\n",
    "\n",
    "    conn.commit()\n",
    "    conn.close()\n",
    "\n",
    "    return \"User deleted\""
   ]
  },
  {
   "cell_type": "code",
   "execution_count": 5,
   "metadata": {},
   "outputs": [],
   "source": [
    "def update_from_csv(user_db, csv_path):\n",
    "    \"\"\"\n",
    "    Updates usernames table in the users database using the usernames csv\n",
    "\n",
    "    Args:\n",
    "        db_path: path to the user database\n",
    "        csv_path: path of the csv to use to update the database\n",
    "        \n",
    "    Returns:\n",
    "        None: updates user database\n",
    "    \"\"\"\n",
    "    usernames = pd.read_csv(csv_path)\n",
    "\n",
    "    conn = sqlite3.connect(user_db)\n",
    "    c = conn.cursor()\n",
    "\n",
    "    usernames.to_sql(\"temp\", conn, if_exists=\"append\", index=False)\n",
    "    c.execute(\n",
    "        f\"\"\"\n",
    "            INSERT INTO usernames (username, first_name, last_name, email, has_password)\n",
    "            SELECT username, first_name, last_name, email, has_password FROM temp t\n",
    "            WHERE NOT EXISTS\n",
    "                (SELECT * from usernames f\n",
    "                WHERE f.username = t.username);\n",
    "            \"\"\"\n",
    "    )\n",
    "    conn.commit()\n",
    "    conn.close()\n",
    "    return \"Users updated\""
   ]
  },
  {
   "cell_type": "code",
   "execution_count": 6,
   "metadata": {},
   "outputs": [],
   "source": [
    "def create_from_csv(db_path, csv_path):\n",
    "    \"\"\"\n",
    "    Creates a users database for the dashboard from\n",
    "    a provided csv file\n",
    "\n",
    "    Args:\n",
    "        db_path(str): path to the database - if just the name\n",
    "            it will be created in this folder\n",
    "        csv_path(str): path to the csv\n",
    "            that contains the csv of users\n",
    "            Columns of username, first_name, last_name, email, has_password\n",
    "    \"\"\"\n",
    "    usernames = pd.read_csv(csv_path)\n",
    "    conn = sqlite3.connect(db_path)\n",
    "    c = conn.cursor()\n",
    "\n",
    "    q = \"\"\"CREATE TABLE user (\n",
    "            id INTEGER PRIMARY KEY,\n",
    "            username TEXT NOT NULL UNIQUE,\n",
    "            email TEXT NOT NULL UNIQUE,\n",
    "            password NOT NULL\n",
    "            );\n",
    "            \"\"\"\n",
    "\n",
    "    c.execute(q)\n",
    "    conn.commit()\n",
    "\n",
    "    q = \"\"\"CREATE TABLE usernames (\n",
    "            username TEXT NOT NULL UNIQUE PRIMARY KEY,\n",
    "            first_name TEXT NOT NULL,\n",
    "            last_name TEXT NOT NULL,\n",
    "            email TEXT NOT NULL UNIQUE,\n",
    "            has_password INT NOT NULL\n",
    "            );\n",
    "        \"\"\"\n",
    "    c.execute(q)\n",
    "\n",
    "    usernames.to_sql(\"usernames\", conn, if_exists=\"append\", index=False)\n",
    "    conn.commit()\n",
    "    conn.close()\n",
    "\n",
    "    return \"User database created\""
   ]
  },
  {
   "cell_type": "code",
   "execution_count": 7,
   "metadata": {},
   "outputs": [],
   "source": [
    "def reset_password(db_path, username):\n",
    "    \"\"\"\n",
    "    Resets a user's password by deleting the user table and\n",
    "    setting has_password to 0 in the usernames table. \n",
    "\n",
    "    Args:\n",
    "        db_path: path to the user database\n",
    "        username: username of the user\n",
    "        \n",
    "    Returns:\n",
    "        None: updates user database\n",
    "    \"\"\"\n",
    "    conn = sqlite3.connect(db_path)\n",
    "\n",
    "    delete_password_indication = \"\"\"UPDATE usernames SET has_password=0 WHERE username=?\"\"\"\n",
    "    delete_user_login = \"\"\"DELETE FROM user WHERE username=?;\"\"\"\n",
    "\n",
    "    c = conn.cursor()\n",
    "    c.execute(delete_user_login, (username,))\n",
    "    c.execute(delete_password_indication, (username,))\n",
    "\n",
    "    conn.commit()\n",
    "    conn.close()\n",
    "    \n",
    "    return \"Password ready to be reset.\""
   ]
  },
  {
   "cell_type": "code",
   "execution_count": 8,
   "metadata": {},
   "outputs": [
    {
     "data": {
      "text/plain": [
       "'User deleted'"
      ]
     },
     "execution_count": 8,
     "metadata": {},
     "output_type": "execute_result"
    }
   ],
   "source": [
    "delete_user(\"V:/Databases/users.db\", \"mkehoe\")"
   ]
  },
  {
   "cell_type": "code",
   "execution_count": 9,
   "metadata": {},
   "outputs": [
    {
     "data": {
      "text/plain": [
       "'User inserted'"
      ]
     },
     "execution_count": 9,
     "metadata": {},
     "output_type": "execute_result"
    }
   ],
   "source": [
    "insert_user(\"V:/Databases/users.db\", \"mgirard\", \"Maryellen\", \"Girard\", \"mgirard@pace-ri.org\", has_password=0)"
   ]
  }
 ],
 "metadata": {
  "kernelspec": {
   "display_name": "Python 3",
   "language": "python",
   "name": "python3"
  },
  "language_info": {
   "codemirror_mode": {
    "name": "ipython",
    "version": 3
   },
   "file_extension": ".py",
   "mimetype": "text/x-python",
   "name": "python",
   "nbconvert_exporter": "python",
   "pygments_lexer": "ipython3",
   "version": "3.7.3"
  }
 },
 "nbformat": 4,
 "nbformat_minor": 2
}
